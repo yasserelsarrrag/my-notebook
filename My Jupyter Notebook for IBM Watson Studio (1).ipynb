{
 "cells": [
  {
   "cell_type": "markdown",
   "id": "eac54b0d",
   "metadata": {},
   "source": [
    "# My Jupyter Notebook for IBM Watson Studio"
   ]
  },
  {
   "cell_type": "markdown",
   "id": "35de0e99",
   "metadata": {},
   "source": [
    "This Notebook will show the skills learned throughout the course"
   ]
  },
  {
   "cell_type": "markdown",
   "id": "22eed635",
   "metadata": {},
   "source": [
    "In this Notebook I will list several things about data science such as langauges, libraries and tools. Will also show things I learned throughout the course"
   ]
  },
  {
   "cell_type": "markdown",
   "id": "222305cb",
   "metadata": {},
   "source": [
    "**Data science langauges include:** \n",
    "\n",
    "1. Python \n",
    "2. R\n",
    "3. SQL\n",
    "4. Java\n",
    "5. C++ \n",
    "6. Javascript\n",
    "7. Julia\n",
    "8. Scala\n",
    "9. Php\n",
    "10. Go\n",
    "11. Ruby\n",
    "12. Visual Basic"
   ]
  },
  {
   "cell_type": "markdown",
   "id": "ae939633",
   "metadata": {},
   "source": [
    "**Data science libraries include:** \n",
    "1. NumPy\n",
    "2. Pandas\n",
    "3. Matplotlib\n",
    "4. Seaborn\n",
    "5. Scikit-learn\n",
    "6. TensorFlow\n",
    "7. Keras\n",
    "8. PyTorch\n",
    "9. NLTK\n",
    "10. spaCy *\n",
    "11. dplyr\n",
    "12. ggplot2\n",
    "13. tidyr\n",
    "14. caret15.  \n",
    "15. glmnet"
   ]
  },
  {
   "cell_type": "markdown",
   "id": "61910903",
   "metadata": {},
   "source": [
    "| Data Science Tools |\n",
    "| :-----------------: |\n",
    "| Jupyter Notebook |\n",
    "| RStudio |\n",
    "| Spyder |\n",
    "| Anaconda |\n",
    "| Zeppelin |"
   ]
  },
  {
   "cell_type": "markdown",
   "id": "f36b12ce",
   "metadata": {},
   "source": [
    "**Will introduce arithmetic expression examples**"
   ]
  },
  {
   "cell_type": "markdown",
   "id": "2f6d5261",
   "metadata": {},
   "source": [
    "I will multiply 2 by 5 and then add 5"
   ]
  },
  {
   "cell_type": "code",
   "execution_count": 4,
   "id": "b56d1898",
   "metadata": {},
   "outputs": [
    {
     "data": {
      "text/plain": [
       "15"
      ]
     },
     "execution_count": 4,
     "metadata": {},
     "output_type": "execute_result"
    }
   ],
   "source": [
    "(2*5) +5"
   ]
  },
  {
   "cell_type": "markdown",
   "id": "6e7d1939",
   "metadata": {},
   "source": [
    "The following will convert minutes to hours"
   ]
  },
  {
   "cell_type": "code",
   "execution_count": 5,
   "id": "798c37ba",
   "metadata": {},
   "outputs": [
    {
     "name": "stdout",
     "output_type": "stream",
     "text": [
      "2.0\n"
     ]
    }
   ],
   "source": [
    "minutes = 120\n",
    "hours = minutes / 60\n",
    "print(hours)"
   ]
  },
  {
   "cell_type": "markdown",
   "id": "d95385b8",
   "metadata": {},
   "source": [
    "**Objective:**\n",
    "\n",
    "* Add comments to the code\n",
    "* Create Markdown Cells\n",
    "* Add ordered and unordered listing in markdown cells\n",
    "* Format Content of markdown cellswith heading styles"
   ]
  },
  {
   "cell_type": "markdown",
   "id": "0432dce7",
   "metadata": {},
   "source": [
    "## Author(s) \n",
    "\n",
    "**Yasser Elsarrag**"
   ]
  },
  {
   "cell_type": "code",
   "execution_count": null,
   "id": "a00e5082",
   "metadata": {},
   "outputs": [],
   "source": []
  }
 ],
 "metadata": {
  "kernelspec": {
   "display_name": "Python 3 (ipykernel)",
   "language": "python",
   "name": "python3"
  },
  "language_info": {
   "codemirror_mode": {
    "name": "ipython",
    "version": 3
   },
   "file_extension": ".py",
   "mimetype": "text/x-python",
   "name": "python",
   "nbconvert_exporter": "python",
   "pygments_lexer": "ipython3",
   "version": "3.9.13"
  }
 },
 "nbformat": 4,
 "nbformat_minor": 5
}
