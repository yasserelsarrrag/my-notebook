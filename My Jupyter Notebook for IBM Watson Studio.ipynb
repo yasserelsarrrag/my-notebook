{
 "cells": [
  {
   "cell_type": "markdown",
   "id": "eac54b0d",
   "metadata": {},
   "source": [
    "# My Jupyter Notebook for IBM Watson Studio"
   ]
  },
  {
   "cell_type": "markdown",
   "id": "35de0e99",
   "metadata": {},
   "source": [
    "This Notebook will show the skills learned throughout the course"
   ]
  },
  {
   "cell_type": "markdown",
   "id": "22eed635",
   "metadata": {},
   "source": [
    "In this Notebook I will list several things about data science such as langauges, libraries and tools. Will also show things I learned throughout the course"
   ]
  },
  {
   "cell_type": "markdown",
   "id": "222305cb",
   "metadata": {},
   "source": [
    "**Data science langauges include:** \n",
    "\n",
    "Python, R, SQL, Java, MATLAB, SAS, Julia, Scala, and JavaScript (for web-based data visualization)*"
   ]
  },
  {
   "cell_type": "markdown",
   "id": "ae939633",
   "metadata": {},
   "source": [
    "**Data science libraries include:** \n",
    "* Python: NumPy, Pandas, Matplotlib, Seaborn, Scikit-learn, TensorFlow, Keras, PyTorch, NLTK, spaCy *\n",
    "\n",
    "* R: dplyr, ggplot2, tidyr, caret, glmnet, randomForest, caret, keras, tensorflow, e1071\n",
    "\n",
    "* Java: Weka, Deeplearning4j, Mahout, H2O\n",
    "\n",
    "* Julia: DataFrames.jl, Flux.jl, MLJ.jl "
   ]
  },
  {
   "cell_type": "markdown",
   "id": "61910903",
   "metadata": {},
   "source": [
    "**Data science tools include:** \n",
    "\n",
    "IBM Watson Studio, Jupyter Notebook, Google Colab, RStudio, Apache Zeppelin, Anaconda, RapidMiner, KNIME, DataRobot, Alteryx"
   ]
  },
  {
   "cell_type": "markdown",
   "id": "f36b12ce",
   "metadata": {},
   "source": [
    "**Will introduce arithmetic expression examples**"
   ]
  },
  {
   "cell_type": "markdown",
   "id": "2f6d5261",
   "metadata": {},
   "source": [
    "I will multiply 2 by 5 and then add 5"
   ]
  },
  {
   "cell_type": "code",
   "execution_count": 4,
   "id": "b56d1898",
   "metadata": {},
   "outputs": [
    {
     "data": {
      "text/plain": [
       "15"
      ]
     },
     "execution_count": 4,
     "metadata": {},
     "output_type": "execute_result"
    }
   ],
   "source": [
    "(2*5) +5"
   ]
  },
  {
   "cell_type": "markdown",
   "id": "6e7d1939",
   "metadata": {},
   "source": [
    "The following will convert minutes to hours"
   ]
  },
  {
   "cell_type": "code",
   "execution_count": 5,
   "id": "798c37ba",
   "metadata": {},
   "outputs": [
    {
     "name": "stdout",
     "output_type": "stream",
     "text": [
      "2.0\n"
     ]
    }
   ],
   "source": [
    "minutes = 120\n",
    "hours = minutes / 60\n",
    "print(hours)"
   ]
  },
  {
   "cell_type": "markdown",
   "id": "d95385b8",
   "metadata": {},
   "source": [
    "**The objectives were to show the skills learned throught the course**"
   ]
  },
  {
   "cell_type": "markdown",
   "id": "0432dce7",
   "metadata": {},
   "source": [
    "This Notebook was written by **Yasser Elsarrag**"
   ]
  }
 ],
 "metadata": {
  "kernelspec": {
   "display_name": "Python 3 (ipykernel)",
   "language": "python",
   "name": "python3"
  },
  "language_info": {
   "codemirror_mode": {
    "name": "ipython",
    "version": 3
   },
   "file_extension": ".py",
   "mimetype": "text/x-python",
   "name": "python",
   "nbconvert_exporter": "python",
   "pygments_lexer": "ipython3",
   "version": "3.9.13"
  }
 },
 "nbformat": 4,
 "nbformat_minor": 5
}
